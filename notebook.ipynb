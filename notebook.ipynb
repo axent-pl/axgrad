{
 "cells": [
  {
   "cell_type": "code",
   "execution_count": 37,
   "metadata": {},
   "outputs": [],
   "source": [
    "import matplotlib.pyplot as plt\n",
    "from ipywidgets import interact\n",
    "import numpy as np\n",
    "\n",
    "from axgrad.axgrad import Value"
   ]
  },
  {
   "cell_type": "code",
   "execution_count": 38,
   "metadata": {},
   "outputs": [],
   "source": [
    "X_MIN = -10\n",
    "X_MAX = 10\n",
    "\n",
    "def func(x):\n",
    "    return x**3 + 2*x**2 + x - 7"
   ]
  },
  {
   "cell_type": "code",
   "execution_count": 39,
   "metadata": {},
   "outputs": [],
   "source": [
    "def interactive_plot(dx=0):\n",
    "\tX = []\n",
    "\tY = []\n",
    "\tcurrentX = []\n",
    "\tcurrentY = []\n",
    "\tgrad_a = 0.0\n",
    "\tgrad_b = 0.0\n",
    "\tdifY = []\n",
    "\tfor i in range(X_MIN,X_MAX):\n",
    "\t\tx = Value(i)\n",
    "\t\ty = func(x)\n",
    "\t\ty.backward(0.001)\n",
    "\t\tif i == dx:\n",
    "\t\t\tgrad_a = x.grad\n",
    "\t\t\tgrad_b = y.value - x.value*x.grad\n",
    "\t\t\tcurrentX.append(x.value)\n",
    "\t\t\tcurrentY.append(y.value)\n",
    "\t\tX.append(x.value)\n",
    "\t\tY.append(y.value)\n",
    "\tfor i in range(X_MIN,X_MAX):\n",
    "\t\tdifY.append(grad_a * float(i) + grad_b)\n",
    "\n",
    "\tfig, ax = plt.subplots(figsize=(8, 4))\n",
    "\tax.set_xlim(X_MIN,X_MAX)\n",
    "\tax.set_ylim(min(Y),max(Y))\n",
    "\tax.plot(X, Y, label=\"function\", color='blue')\n",
    "\tax.plot(X, difY, label=\"gradient\", color='red')\n",
    "\tax.scatter(currentX, currentY)\n",
    "\tplt.xlabel('X-axis')\n",
    "\tplt.ylabel('Y-axis')\n",
    "\tax.grid(True)\n",
    "\tplt.show()\n"
   ]
  },
  {
   "cell_type": "code",
   "execution_count": 40,
   "metadata": {},
   "outputs": [
    {
     "data": {
      "application/vnd.jupyter.widget-view+json": {
       "model_id": "005a61ab6c924c7392953b8b78cc3ee8",
       "version_major": 2,
       "version_minor": 0
      },
      "text/plain": [
       "interactive(children=(IntSlider(value=0, description='dx', max=9, min=-10), Output()), _dom_classes=('widget-i…"
      ]
     },
     "metadata": {},
     "output_type": "display_data"
    },
    {
     "data": {
      "text/plain": [
       "<function __main__.interactive_plot(dx=0)>"
      ]
     },
     "execution_count": 40,
     "metadata": {},
     "output_type": "execute_result"
    }
   ],
   "source": [
    "interact(interactive_plot, dx=(X_MIN, X_MAX-1, 1))\n"
   ]
  },
  {
   "cell_type": "code",
   "execution_count": null,
   "metadata": {},
   "outputs": [],
   "source": []
  },
  {
   "cell_type": "code",
   "execution_count": null,
   "metadata": {},
   "outputs": [],
   "source": []
  }
 ],
 "metadata": {
  "kernelspec": {
   "display_name": "aienv",
   "language": "python",
   "name": "python3"
  },
  "language_info": {
   "codemirror_mode": {
    "name": "ipython",
    "version": 3
   },
   "file_extension": ".py",
   "mimetype": "text/x-python",
   "name": "python",
   "nbconvert_exporter": "python",
   "pygments_lexer": "ipython3",
   "version": "3.9.6"
  }
 },
 "nbformat": 4,
 "nbformat_minor": 2
}
